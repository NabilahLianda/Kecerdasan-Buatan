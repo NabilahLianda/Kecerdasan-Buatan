{
  "nbformat": 4,
  "nbformat_minor": 0,
  "metadata": {
    "colab": {
      "provenance": [],
      "authorship_tag": "ABX9TyMGZp8TSKFCEhB2zfVTPp9T",
      "include_colab_link": true
    },
    "kernelspec": {
      "name": "python3",
      "display_name": "Python 3"
    },
    "language_info": {
      "name": "python"
    }
  },
  "cells": [
    {
      "cell_type": "markdown",
      "metadata": {
        "id": "view-in-github",
        "colab_type": "text"
      },
      "source": [
        "<a href=\"https://colab.research.google.com/github/NabilahLianda/Kecerdasan-Buatan/blob/main/Aplikasi_KCB.ipynb\" target=\"_parent\"><img src=\"https://colab.research.google.com/assets/colab-badge.svg\" alt=\"Open In Colab\"/></a>"
      ]
    },
    {
      "cell_type": "code",
      "execution_count": null,
      "metadata": {
        "id": "t_AvA1GbGSGB",
        "colab": {
          "base_uri": "https://localhost:8080/"
        },
        "outputId": "8f785e1c-1eeb-4d24-80a0-52187a2f10b2"
      },
      "outputs": [
        {
          "output_type": "stream",
          "name": "stdout",
          "text": [
            "\u001b[2K     \u001b[90m━━━━━━━━━━━━━━━━━━━━━━━━━━━━━━━━━━━━━━━━\u001b[0m \u001b[32m44.3/44.3 kB\u001b[0m \u001b[31m2.3 MB/s\u001b[0m eta \u001b[36m0:00:00\u001b[0m\n",
            "\u001b[2K   \u001b[90m━━━━━━━━━━━━━━━━━━━━━━━━━━━━━━━━━━━━━━━━\u001b[0m \u001b[32m10.1/10.1 MB\u001b[0m \u001b[31m42.0 MB/s\u001b[0m eta \u001b[36m0:00:00\u001b[0m\n",
            "\u001b[2K   \u001b[90m━━━━━━━━━━━━━━━━━━━━━━━━━━━━━━━━━━━━━━━━\u001b[0m \u001b[32m6.9/6.9 MB\u001b[0m \u001b[31m52.8 MB/s\u001b[0m eta \u001b[36m0:00:00\u001b[0m\n",
            "\u001b[2K   \u001b[90m━━━━━━━━━━━━━━━━━━━━━━━━━━━━━━━━━━━━━━━━\u001b[0m \u001b[32m79.1/79.1 kB\u001b[0m \u001b[31m4.1 MB/s\u001b[0m eta \u001b[36m0:00:00\u001b[0m\n",
            "\u001b[?25h"
          ]
        }
      ],
      "source": [
        "#Instalasi Streamlit & Pyngrok\n",
        "\n",
        "!pip install streamlit pyngrok -q"
      ]
    },
    {
      "cell_type": "code",
      "source": [
        "#Function Simpan File app.py\n",
        "\n",
        "from IPython.core.magic import register_cell_magic\n",
        "\n",
        "@register_cell_magic\n",
        "def writefile(line, cell):\n",
        "    with open(line, 'w') as f:\n",
        "        f.write(cell)"
      ],
      "metadata": {
        "id": "Ke2bgC0sGX6v"
      },
      "execution_count": null,
      "outputs": []
    },
    {
      "cell_type": "code",
      "source": [
        "#File Streamlit app.py\n",
        "\n",
        "%%writefile app.py\n",
        "import streamlit as st\n",
        "import pandas as pd\n",
        "import numpy as np\n",
        "\n",
        "st.set_page_config(layout=\"wide\")\n",
        "st.title(\"🧠 Aplikasi K-Means Clustering\")\n",
        "\n",
        "# --- DATASET AWAL ---\n",
        "initial_data = pd.DataFrame([\n",
        "    {'Nama': 'Sucianto', 'Tidak Absen Masuk': 6, 'Sakit': 2, 'Izin': 15, 'Alpa': 0, 'Tidak Absen Pulang': 10},\n",
        "    {'Nama': 'Riadi', 'Tidak Absen Masuk': 10, 'Sakit': 10, 'Izin': 6, 'Alpa': 1, 'Tidak Absen Pulang': 9},\n",
        "    {'Nama': 'Juliana', 'Tidak Absen Masuk': 4, 'Sakit': 8, 'Izin': 11, 'Alpa': 0, 'Tidak Absen Pulang': 0},\n",
        "    {'Nama': 'Vivin Rhmaiani', 'Tidak Absen Masuk': 7, 'Sakit': 6, 'Izin': 8, 'Alpa': 1, 'Tidak Absen Pulang': 2},\n",
        "    {'Nama': 'Suyono', 'Tidak Absen Masuk': 9, 'Sakit': 10, 'Izin': 7, 'Alpa': 5, 'Tidak Absen Pulang': 16},\n",
        "    {'Nama': 'Dinauli Manik', 'Tidak Absen Masuk': 11, 'Sakit': 4, 'Izin': 6, 'Alpa': 1, 'Tidak Absen Pulang': 15},\n",
        "    {'Nama': 'Veny Setia Ningrum', 'Tidak Absen Masuk': 26, 'Sakit': 6, 'Izin': 4, 'Alpa': 2, 'Tidak Absen Pulang': 27},\n",
        "    {'Nama': 'Junedi Silalahi', 'Tidak Absen Masuk': 16, 'Sakit': 3, 'Izin': 11, 'Alpa': 7, 'Tidak Absen Pulang': 26},\n",
        "    {'Nama': 'Poltak Silaen', 'Tidak Absen Masuk': 11, 'Sakit': 4, 'Izin': 2, 'Alpa': 11, 'Tidak Absen Pulang': 40},\n",
        "    {'Nama': 'Median Sahara Manurung', 'Tidak Absen Masuk': 12, 'Sakit': 7, 'Izin': 10, 'Alpa': 18, 'Tidak Absen Pulang': 38},\n",
        "    {'Nama': 'Edi Sopian Pohan', 'Tidak Absen Masuk': 13, 'Sakit': 4, 'Izin': 6, 'Alpa': 12, 'Tidak Absen Pulang': 34},\n",
        "    {'Nama': 'Herman', 'Tidak Absen Masuk': 21, 'Sakit': 11, 'Izin': 8, 'Alpa': 11, 'Tidak Absen Pulang': 55},\n",
        "    {'Nama': 'Suman', 'Tidak Absen Masuk': 17, 'Sakit': 3, 'Izin': 10, 'Alpa': 9, 'Tidak Absen Pulang': 31}\n",
        "])\n",
        "\n",
        "# --- INISIALISASI SESSION STATE ---\n",
        "if 'data' not in st.session_state:\n",
        "    st.session_state['data'] = initial_data.copy()\n",
        "if 'result_df' not in st.session_state:\n",
        "    st.session_state['result_df'] = pd.DataFrame()\n",
        "\n",
        "# --- FORM INPUT DATA ---\n",
        "st.subheader(\"1. Masukkan Data Pegawai\")\n",
        "with st.form(\"input_form\"):\n",
        "    nama = st.text_input(\"Nama Pegawai\")\n",
        "    tam = st.number_input(\"Tidak Absen Masuk\", min_value=0)\n",
        "    sakit = st.number_input(\"Sakit\", min_value=0)\n",
        "    izin = st.number_input(\"Izin\", min_value=0)\n",
        "    alpa = st.number_input(\"Alpa\", min_value=0)\n",
        "    tap = st.number_input(\"Tidak Absen Pulang\", min_value=0)\n",
        "    submitted = st.form_submit_button(\"Tambahkan\")\n",
        "\n",
        "if submitted:\n",
        "    new_row = {\n",
        "        'Nama': nama,\n",
        "        'Tidak Absen Masuk': tam,\n",
        "        'Sakit': sakit,\n",
        "        'Izin': izin,\n",
        "        'Alpa': alpa,\n",
        "        'Tidak Absen Pulang': tap\n",
        "    }\n",
        "    st.session_state['data'] = pd.concat(\n",
        "        [st.session_state['data'], pd.DataFrame([new_row])],\n",
        "        ignore_index=True\n",
        "    )\n",
        "    st.success(\"✅ Data berhasil ditambahkan!\")\n",
        "\n",
        "df = st.session_state['data']\n",
        "\n",
        "# --- TAMPILKAN DATA ---\n",
        "st.subheader(\"2. Data Pegawai Saat Ini\")\n",
        "df_display = df.copy()\n",
        "df_display.index = np.arange(1, len(df_display) + 1)\n",
        "st.dataframe(df_display, use_container_width=True)\n",
        "\n",
        "# --- PILIH CENTROID ---\n",
        "if len(df) >= 3:\n",
        "    st.subheader(\"3. Pilih 3 Data Sebagai Centroid Awal\")\n",
        "    options = df['Nama'].tolist()\n",
        "    col1, col2, col3 = st.columns(3)\n",
        "    with col1:\n",
        "        c1 = st.selectbox(\"Centroid 1\", options, key=\"c1\")\n",
        "    with col2:\n",
        "        c2 = st.selectbox(\"Centroid 2\", options, key=\"c2\")\n",
        "    with col3:\n",
        "        c3 = st.selectbox(\"Centroid 3\", options, key=\"c3\")\n",
        "\n",
        "    if st.button(\"🔁 Jalankan K-Means Sampai Konvergen\"):\n",
        "        centroids = {\n",
        "            'C1': df[df['Nama'] == c1].iloc[0, 1:].to_numpy(dtype=float),\n",
        "            'C2': df[df['Nama'] == c2].iloc[0, 1:].to_numpy(dtype=float),\n",
        "            'C3': df[df['Nama'] == c3].iloc[0, 1:].to_numpy(dtype=float)\n",
        "        }\n",
        "\n",
        "        previous_clusters = None\n",
        "        iteration = 1\n",
        "\n",
        "        while True:\n",
        "            results = []\n",
        "            for _, row in df.iterrows():\n",
        "                x = row[1:].to_numpy(dtype=float)\n",
        "                distances = {key: np.linalg.norm(x - centroids[key]) for key in centroids}\n",
        "                closest = min(distances, key=distances.get)\n",
        "                results.append({\n",
        "                    'Nama': row['Nama'],\n",
        "                    'C1': round(distances['C1'], 4),\n",
        "                    'C2': round(distances['C2'], 4),\n",
        "                    'C3': round(distances['C3'], 4),\n",
        "                    'Cluster': closest\n",
        "                })\n",
        "\n",
        "            result_df = pd.DataFrame(results)\n",
        "\n",
        "            if previous_clusters is not None and all(result_df['Cluster'] == previous_clusters):\n",
        "                st.success(f\"✅ Konvergen pada iterasi ke-{iteration - 1}!\")\n",
        "                break\n",
        "\n",
        "            previous_clusters = result_df['Cluster'].copy()\n",
        "\n",
        "            merged = df.merge(result_df[['Nama', 'Cluster']], on='Nama', how='left')\n",
        "            for cluster_name in ['C1', 'C2', 'C3']:\n",
        "                members = merged[merged['Cluster'] == cluster_name].drop(columns=['Nama', 'Cluster'])\n",
        "                if not members.empty:\n",
        "                    centroids[cluster_name] = members.mean().to_numpy()\n",
        "\n",
        "            iteration += 1\n",
        "\n",
        "        st.session_state['result_df'] = result_df\n",
        "        st.subheader(\"4. Hasil Clustering Akhir\")\n",
        "        st.dataframe(result_df, use_container_width=True)\n",
        "\n",
        "else:\n",
        "    st.warning(\"⚠️ Masukkan minimal 3 data untuk bisa memilih centroid!\")\n"
      ],
      "metadata": {
        "id": "Pew45kqjP9RM"
      },
      "execution_count": null,
      "outputs": []
    },
    {
      "cell_type": "code",
      "source": [
        "#Set Token Ngrok\n",
        "\n",
        "from pyngrok import conf\n",
        "conf.get_default().auth_token = \"2yWwjHGZG2HUta7SDLzgJlWPwhm_wZRC9CueQrnPSzFGzCF4\""
      ],
      "metadata": {
        "id": "gVeOklF1QFmd"
      },
      "execution_count": null,
      "outputs": []
    },
    {
      "cell_type": "code",
      "source": [
        "#Run Streamlit & URL Ngrok\n",
        "\n",
        "!streamlit run app.py &>/content/log.txt &\n",
        "\n",
        "from pyngrok import ngrok\n",
        "public_url = ngrok.connect(8501)\n",
        "print(\"🌐 Akses aplikasi di:\", public_url)\n"
      ],
      "metadata": {
        "colab": {
          "base_uri": "https://localhost:8080/"
        },
        "id": "vf0eq1jFQLH_",
        "outputId": "d73299a3-b92f-4f61-8a03-66792b9397a4"
      },
      "execution_count": null,
      "outputs": [
        {
          "output_type": "stream",
          "name": "stdout",
          "text": [
            "🌐 Akses aplikasi di: NgrokTunnel: \"https://cd9a-34-148-249-97.ngrok-free.app\" -> \"http://localhost:8501\"\n"
          ]
        }
      ]
    }
  ]
}